{
 "cells": [
  {
   "cell_type": "code",
   "execution_count": 1,
   "id": "23a9d6b9-5466-4423-a63d-5df5276943dc",
   "metadata": {},
   "outputs": [
    {
     "data": {
      "text/plain": [
       "{101: {'name': 'Satya', 'age': 27, 'department': 'HR', 'salary': 50000},\n",
       " 102: {'name': 'Anjali', 'age': 30, 'department': 'Finance', 'salary': 60000},\n",
       " 103: {'name': 'Ravi', 'age': 25, 'department': 'IT', 'salary': 55000}}"
      ]
     },
     "execution_count": 1,
     "metadata": {},
     "output_type": "execute_result"
    }
   ],
   "source": [
    "#Use a dictionary to store employee data where the keys is the emp_id (Employee ID) and the value is another dictionary containing:\n",
    "employees = {\n",
    "    101: {'name': 'Satya', 'age': 27, 'department': 'HR', 'salary': 50000},\n",
    "    102: {'name': 'Anjali', 'age': 30, 'department': 'Finance', 'salary': 60000},\n",
    "    103: {'name': 'Ravi', 'age': 25, 'department': 'IT', 'salary': 55000}\n",
    "}\n",
    "employees"
   ]
  },
  {
   "cell_type": "code",
   "execution_count": 3,
   "id": "a292b59c-58d5-4e6f-87b0-b9876fec8603",
   "metadata": {},
   "outputs": [],
   "source": [
    "# Function to add a new employee\n",
    "def add_employee():\n",
    "    print(\"\\n=== Add New Employee ===\")\n",
    "    while True:\n",
    "        try:\n",
    "            emp_id = int(input(\"Enter Employee ID: \"))\n",
    "            if emp_id in employees:\n",
    "                print(\"Employee ID already exists. Please enter a unique ID.\")\n",
    "            else:\n",
    "                break\n",
    "        except ValueError:\n",
    "            print(\"Invalid input. Please enter a numeric Employee ID.\")\n",
    "\n",
    "    name = input(\"Enter Name: \").strip()\n",
    "\n",
    "    while True:\n",
    "        try:\n",
    "            age = int(input(\"Enter Age: \"))\n",
    "            break\n",
    "        except ValueError:\n",
    "            print(\"Invalid age. Please enter a number.\")\n",
    "\n",
    "    department = input(\"Enter Department: \").strip()\n",
    "\n",
    "    while True:\n",
    "        try:\n",
    "            salary = float(input(\"Enter Salary: \"))\n",
    "            break\n",
    "        except ValueError:\n",
    "            print(\"Invalid salary. Please enter a number.\")\n",
    "\n",
    "    employees[emp_id] = {\n",
    "        'name': name,\n",
    "        'age': age,\n",
    "        'department': department,\n",
    "        'salary': salary\n",
    "    }\n",
    "\n",
    "    print(f\"Employee '{name}' added successfully with ID {emp_id}.\\n\")"
   ]
  },
  {
   "cell_type": "code",
   "execution_count": 5,
   "id": "1d6cbdef-6416-4e81-a769-c8424091c216",
   "metadata": {},
   "outputs": [
    {
     "name": "stdout",
     "output_type": "stream",
     "text": [
      "\n",
      "=== Add New Employee ===\n"
     ]
    },
    {
     "name": "stdin",
     "output_type": "stream",
     "text": [
      "Enter Employee ID:  101\n"
     ]
    },
    {
     "name": "stdout",
     "output_type": "stream",
     "text": [
      "Employee ID already exists. Please enter a unique ID.\n"
     ]
    },
    {
     "name": "stdin",
     "output_type": "stream",
     "text": [
      "Enter Employee ID:  10\n",
      "Enter Name:  Rupanjali Singh\n",
      "Enter Age:  23\n",
      "Enter Department:  BSBE\n",
      "Enter Salary:  2,97,600\n"
     ]
    },
    {
     "name": "stdout",
     "output_type": "stream",
     "text": [
      "Invalid salary. Please enter a number.\n"
     ]
    },
    {
     "name": "stdin",
     "output_type": "stream",
     "text": [
      "Enter Salary:  297600\n"
     ]
    },
    {
     "name": "stdout",
     "output_type": "stream",
     "text": [
      "Employee 'Rupanjali Singh' added successfully with ID 10.\n",
      "\n"
     ]
    }
   ],
   "source": [
    "add_employee()"
   ]
  },
  {
   "cell_type": "code",
   "execution_count": 7,
   "id": "eff14ac2-f4f1-416d-b01b-feb1139f9d99",
   "metadata": {},
   "outputs": [],
   "source": [
    "# Function to view all employees\n",
    "def view_employees():\n",
    "    print(\"\\n=== All Employee Records ===\")\n",
    "    if not employees:\n",
    "        print(\"No employees available.\\n\")\n",
    "        return\n",
    "\n",
    "    print(f\"{'ID':<10}{'Name':<20}{'Age':<10}{'Department':<15}{'Salary':<10}\")\n",
    "    print(\"-\" * 65)\n",
    "\n",
    "    for emp_id, details in employees.items():\n",
    "        print(f\"{emp_id:<10}{details['name']:<20}{details['age']:<10}\"\n",
    "              f\"{details['department']:<15}{details['salary']:<10.2f}\")\n",
    "    print()"
   ]
  },
  {
   "cell_type": "code",
   "execution_count": 9,
   "id": "81ac9095-b7fa-4821-b473-c9d55a8b6283",
   "metadata": {},
   "outputs": [
    {
     "name": "stdout",
     "output_type": "stream",
     "text": [
      "\n",
      "=== All Employee Records ===\n",
      "ID        Name                Age       Department     Salary    \n",
      "-----------------------------------------------------------------\n",
      "101       Satya               27        HR             50000.00  \n",
      "102       Anjali              30        Finance        60000.00  \n",
      "103       Ravi                25        IT             55000.00  \n",
      "10        Rupanjali Singh     23        BSBE           297600.00 \n",
      "\n"
     ]
    }
   ],
   "source": [
    "view_employees()"
   ]
  },
  {
   "cell_type": "code",
   "execution_count": 11,
   "id": "90733d5b-705c-4ca9-aff4-699bddc4804b",
   "metadata": {},
   "outputs": [],
   "source": [
    "# Function to search for an employee by ID\n",
    "def search_employee():\n",
    "    print(\"\\n=== Search Employee by ID ===\")\n",
    "    try:\n",
    "        emp_id = int(input(\"Enter Employee ID to search: \"))\n",
    "    except ValueError:\n",
    "        print(\"Invalid input. Please enter a numeric Employee ID.\\n\")\n",
    "        return\n",
    "\n",
    "    if emp_id in employees:\n",
    "        emp = employees[emp_id]\n",
    "        print(f\"\\n Employee Found:\")\n",
    "        print(f\"{'ID':<10}{'Name':<20}{'Age':<10}{'Department':<15}{'Salary':<10}\")\n",
    "        print(\"-\" * 65)\n",
    "        print(f\"{emp_id:<10}{emp['name']:<20}{emp['age']:<10}\"\n",
    "              f\"{emp['department']:<15}{emp['salary']:<10.2f}\\n\")\n",
    "    else:\n",
    "        print(\"Employee not found.\\n\")"
   ]
  },
  {
   "cell_type": "code",
   "execution_count": 13,
   "id": "e012298d-cdfa-4a60-b369-2d2cc370f3e1",
   "metadata": {},
   "outputs": [
    {
     "name": "stdout",
     "output_type": "stream",
     "text": [
      "\n",
      "=== Search Employee by ID ===\n"
     ]
    },
    {
     "name": "stdin",
     "output_type": "stream",
     "text": [
      "Enter Employee ID to search:  10\n"
     ]
    },
    {
     "name": "stdout",
     "output_type": "stream",
     "text": [
      "\n",
      " Employee Found:\n",
      "ID        Name                Age       Department     Salary    \n",
      "-----------------------------------------------------------------\n",
      "10        Rupanjali Singh     23        BSBE           297600.00 \n",
      "\n"
     ]
    }
   ],
   "source": [
    "search_employee()"
   ]
  },
  {
   "cell_type": "code",
   "execution_count": 17,
   "id": "886e88c4-6150-4d50-bbb0-c2aada0ae1c1",
   "metadata": {},
   "outputs": [],
   "source": [
    "# Main menu function\n",
    "def main_menu():\n",
    "    while True:\n",
    "        print(\"====== Employee Management System ======\")\n",
    "        print(\"1. Add Employee\")\n",
    "        print(\"2. View All Employees\")\n",
    "        print(\"3. Search for Employee\")\n",
    "        print(\"4. Exit\")\n",
    "        choice = input(\"Enter your choice (1-4): \")\n",
    "\n",
    "        if choice == '1':\n",
    "            add_employee()\n",
    "        elif choice == '2':\n",
    "            view_employees()\n",
    "        elif choice == '3':\n",
    "            search_employee()\n",
    "        elif choice == '4':\n",
    "            print(\"\\nThank you for using the Employee Management System. Goodbye!\\n\")\n",
    "            break\n",
    "        else:\n",
    "            print(\"Invalid choice. Please select a valid option (1-4).\\n\")"
   ]
  },
  {
   "cell_type": "code",
   "execution_count": 19,
   "id": "59c75c29-5574-444f-81a7-02ccb3d6ce18",
   "metadata": {},
   "outputs": [
    {
     "name": "stdout",
     "output_type": "stream",
     "text": [
      "====== Employee Management System ======\n",
      "1. Add Employee\n",
      "2. View All Employees\n",
      "3. Search for Employee\n",
      "4. Exit\n"
     ]
    },
    {
     "name": "stdin",
     "output_type": "stream",
     "text": [
      "Enter your choice (1-4):  3\n"
     ]
    },
    {
     "name": "stdout",
     "output_type": "stream",
     "text": [
      "\n",
      "=== Search Employee by ID ===\n"
     ]
    },
    {
     "name": "stdin",
     "output_type": "stream",
     "text": [
      "Enter Employee ID to search:  10\n"
     ]
    },
    {
     "name": "stdout",
     "output_type": "stream",
     "text": [
      "\n",
      " Employee Found:\n",
      "ID        Name                Age       Department     Salary    \n",
      "-----------------------------------------------------------------\n",
      "10        Rupanjali Singh     23        BSBE           297600.00 \n",
      "\n",
      "====== Employee Management System ======\n",
      "1. Add Employee\n",
      "2. View All Employees\n",
      "3. Search for Employee\n",
      "4. Exit\n"
     ]
    },
    {
     "name": "stdin",
     "output_type": "stream",
     "text": [
      "Enter your choice (1-4):  4\n"
     ]
    },
    {
     "name": "stdout",
     "output_type": "stream",
     "text": [
      "\n",
      "Thank you for using the Employee Management System. Goodbye!\n",
      "\n"
     ]
    }
   ],
   "source": [
    "main_menu()"
   ]
  },
  {
   "cell_type": "code",
   "execution_count": 21,
   "id": "448ce48f-c19f-4500-9aa1-5b874e4966e1",
   "metadata": {},
   "outputs": [
    {
     "name": "stdout",
     "output_type": "stream",
     "text": [
      "====== Employee Management System ======\n",
      "1. Add Employee\n",
      "2. View All Employees\n",
      "3. Search for Employee\n",
      "4. Exit\n"
     ]
    },
    {
     "name": "stdin",
     "output_type": "stream",
     "text": [
      "Enter your choice (1-4):  4\n"
     ]
    },
    {
     "name": "stdout",
     "output_type": "stream",
     "text": [
      "\n",
      "Thank you for using the Employee Management System. Goodbye!\n",
      "\n"
     ]
    }
   ],
   "source": [
    "# Entry point\n",
    "if __name__ == \"__main__\":\n",
    "    main_menu()"
   ]
  },
  {
   "cell_type": "code",
   "execution_count": null,
   "id": "b9f795b8-58a0-4616-be8c-ee7facaa336c",
   "metadata": {},
   "outputs": [],
   "source": []
  }
 ],
 "metadata": {
  "kernelspec": {
   "display_name": "Python 3 (ipykernel)",
   "language": "python",
   "name": "python3"
  },
  "language_info": {
   "codemirror_mode": {
    "name": "ipython",
    "version": 3
   },
   "file_extension": ".py",
   "mimetype": "text/x-python",
   "name": "python",
   "nbconvert_exporter": "python",
   "pygments_lexer": "ipython3",
   "version": "3.12.7"
  }
 },
 "nbformat": 4,
 "nbformat_minor": 5
}
