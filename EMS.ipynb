{
  "nbformat": 4,
  "nbformat_minor": 0,
  "metadata": {
    "colab": {
      "provenance": [],
      "authorship_tag": "ABX9TyMHHLv3gc/zau9Kh7blMiee",
      "include_colab_link": true
    },
    "kernelspec": {
      "name": "python3",
      "display_name": "Python 3"
    },
    "language_info": {
      "name": "python"
    }
  },
  "cells": [
    {
      "cell_type": "markdown",
      "metadata": {
        "id": "view-in-github",
        "colab_type": "text"
      },
      "source": [
        "<a href=\"https://colab.research.google.com/github/IRupanjali/EMS/blob/main/EMS.ipynb\" target=\"_parent\"><img src=\"https://colab.research.google.com/assets/colab-badge.svg\" alt=\"Open In Colab\"/></a>"
      ]
    },
    {
      "cell_type": "code",
      "execution_count": 2,
      "metadata": {
        "id": "i0TWJVE9VEu2"
      },
      "outputs": [],
      "source": [
        "# === Employee Management System ===\n",
        "\n",
        "employees = {\n",
        "    101: {'name': 'Satya', 'age': 27, 'department': 'HR', 'salary': 50000},\n",
        "    102: {'name': 'Anjali', 'age': 30, 'department': 'Finance', 'salary': 60000},\n",
        "    103: {'name': 'Ravi', 'age': 25, 'department': 'IT', 'salary': 55000}\n",
        "}"
      ]
    },
    {
      "cell_type": "code",
      "source": [
        "def add_employee():\n",
        "    try:\n",
        "        emp_id = int(input(\"Enter Employee ID: \"))\n",
        "        if emp_id in employees:\n",
        "            print(\"ID exists.\\n\"); return\n",
        "        name = input(\"Enter Name: \")\n",
        "        age = int(input(\"Enter Age: \"))\n",
        "        dept = input(\"Enter Department: \")\n",
        "        salary = float(input(\"Enter Salary: \"))\n",
        "        employees[emp_id] = {'name': name, 'age': age, 'department': dept, 'salary': salary}\n",
        "        print(\"Employee added.\\n\")\n",
        "    except:\n",
        "        print(\"Invalid input.\\n\")"
      ],
      "metadata": {
        "id": "6f589qsqm5eD"
      },
      "execution_count": 4,
      "outputs": []
    },
    {
      "cell_type": "code",
      "source": [
        "add_employee()"
      ],
      "metadata": {
        "colab": {
          "base_uri": "https://localhost:8080/"
        },
        "id": "mXxr7Ofand54",
        "outputId": "18587722-ee66-498a-d329-e5cad8990b8c"
      },
      "execution_count": 5,
      "outputs": [
        {
          "output_type": "stream",
          "name": "stdout",
          "text": [
            "Enter Employee ID: 10\n",
            "Enter Name: Soumya Singh\n",
            "Enter Age: 23\n",
            "Enter Department: Healthcare\n",
            "Enter Salary: 100000000\n",
            "Employee added.\n",
            "\n"
          ]
        }
      ]
    },
    {
      "cell_type": "code",
      "source": [
        "def view_employees():\n",
        "    if not employees:\n",
        "        print(\"No employees available.\\n\"); return\n",
        "    print(f\"{'ID':<5}{'Name':<15}{'Age':<5}{'Dept':<12}{'Salary':<10}\")\n",
        "    print(\"-\" * 50)\n",
        "    for eid, d in employees.items():\n",
        "        print(f\"{eid:<5}{d['name']:<15}{d['age']:<5}{d['department']:<12}{d['salary']:<10.2f}\")\n",
        "    print()"
      ],
      "metadata": {
        "id": "J5SsHR8_m_Yy"
      },
      "execution_count": 7,
      "outputs": []
    },
    {
      "cell_type": "code",
      "source": [
        "view_employees()"
      ],
      "metadata": {
        "colab": {
          "base_uri": "https://localhost:8080/"
        },
        "id": "6LsPJFfKnwP8",
        "outputId": "02e06110-55f7-462c-ed98-8fb7e0dcbe72"
      },
      "execution_count": 8,
      "outputs": [
        {
          "output_type": "stream",
          "name": "stdout",
          "text": [
            "ID   Name           Age  Dept        Salary    \n",
            "--------------------------------------------------\n",
            "101  Satya          27   HR          50000.00  \n",
            "102  Anjali         30   Finance     60000.00  \n",
            "103  Ravi           25   IT          55000.00  \n",
            "10   Soumya Singh   23   Healthcare  100000000.00\n",
            "\n"
          ]
        }
      ]
    },
    {
      "cell_type": "code",
      "source": [
        "def search_employee():\n",
        "    try:\n",
        "        eid = int(input(\"Enter Employee ID to search: \"))\n",
        "        e = employees.get(eid)\n",
        "        if e:\n",
        "            print(f\"\\nFound: {eid} - {e['name']}, Age: {e['age']}, Dept: {e['department']}, Salary: {e['salary']}\\n\")\n",
        "        else:\n",
        "            print(\"Employee not found.\\n\")\n",
        "    except:\n",
        "        print(\"Invalid input.\\n\")"
      ],
      "metadata": {
        "id": "m-8YujNynIV3"
      },
      "execution_count": 9,
      "outputs": []
    },
    {
      "cell_type": "code",
      "source": [
        "search_employee()"
      ],
      "metadata": {
        "colab": {
          "base_uri": "https://localhost:8080/"
        },
        "id": "qpLYjMNWn9As",
        "outputId": "ab4d6d8e-c7f8-429c-9f5f-38fce94c97a3"
      },
      "execution_count": 10,
      "outputs": [
        {
          "output_type": "stream",
          "name": "stdout",
          "text": [
            "Enter Employee ID to search: 10\n",
            "\n",
            "✅ Found: 10 - Soumya Singh, Age: 23, Dept: Healthcare, Salary: 100000000.0\n",
            "\n"
          ]
        }
      ]
    },
    {
      "cell_type": "code",
      "source": [
        "def main_menu():\n",
        "    while True:\n",
        "        print(\"1. Add  2. View  3. Search  4. Exit\")\n",
        "        choice = input(\"Choose: \")\n",
        "        if choice == '1': add_employee()\n",
        "        elif choice == '2': view_employees()\n",
        "        elif choice == '3': search_employee()\n",
        "        elif choice == '4':\n",
        "            print(\"Thank you for using EMS.\"); break\n",
        "        else: print(\"Invalid choice.\\n\")\n",
        "\n",
        "if __name__ == \"__main__\":\n",
        "    main_menu()"
      ],
      "metadata": {
        "colab": {
          "base_uri": "https://localhost:8080/"
        },
        "id": "6-llW7X4nOEk",
        "outputId": "4cafb289-8029-4d81-c1dc-af74efb193bc"
      },
      "execution_count": 11,
      "outputs": [
        {
          "output_type": "stream",
          "name": "stdout",
          "text": [
            "1. Add  2. View  3. Search  4. Exit\n",
            "Choose: 4\n",
            "👋 Thank you for using EMS.\n"
          ]
        }
      ]
    }
  ]
}